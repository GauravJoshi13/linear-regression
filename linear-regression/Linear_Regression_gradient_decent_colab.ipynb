{
  "nbformat": 4,
  "nbformat_minor": 0,
  "metadata": {
    "colab": {
      "name": "Session #4 + #5: Linear Regression.ipynb",
      "provenance": [],
      "collapsed_sections": [],
      "include_colab_link": true
    },
    "kernelspec": {
      "name": "python3",
      "display_name": "Python 3"
    }
  },
  "cells": [
    {
      "cell_type": "markdown",
      "metadata": {
        "id": "view-in-github",
        "colab_type": "text"
      },
      "source": [
        "<a href=\"https://colab.research.google.com/github/GauravJoshi13/linear-regression/blob/main/linear-regression/Linear_Regression_gradient_decent_colab.ipynb\" target=\"_parent\"><img src=\"https://colab.research.google.com/assets/colab-badge.svg\" alt=\"Open In Colab\"/></a>"
      ]
    },
    {
      "cell_type": "markdown",
      "metadata": {
        "id": "90_WIC462Bk1"
      },
      "source": [
        "# **Linear Regression**\n",
        "\n",
        "Today we're going to learn about linear regression, which, by looking at examples, uses a line or hyperplane to model the universal relationship between several inputs and (potentially) several outputs. Don't worry if that sounds a little intimidating; we're going to break down what that means and go through the process of using linear regression one step at a time. But first . . .\n"
      ]
    },
    {
      "cell_type": "markdown",
      "metadata": {
        "id": "rGGH28a2OYv8"
      },
      "source": [
        "## **Let's talk math!**\n",
        "\n",
        "Why are we going over math?\n",
        "\n",
        "\n",
        "*   Machine learning is largely based on math: calculus, statistics, and probability.\n",
        "*   Thus, having a solid background in these concepts is very helpful!\n",
        "\n",
        "For today's math concept overview, let's start by talking about . . . \n"
      ]
    },
    {
      "cell_type": "markdown",
      "metadata": {
        "id": "R-sqongUQMV_"
      },
      "source": [
        "## **Derivatives and gradient descent**\n",
        "\n",
        "Derivatives are a way to describe a function's **rate of change.**\n",
        "\n",
        "Taking the derivative of a function results in another function, which can then be evaluated at a certain value to calculate the rate of change at that point in the function:\n",
        "\n",
        ">$f(x) = (x-1)^2$\n",
        "\n",
        ">$\\frac{\\delta f}{\\delta x} = f'(x) = 2(x - 1) = 2x - 2 $\n",
        "\n",
        "![alt text](https://eli.thegreenplace.net/images/2016/plot-parabola-with-tangents.png)\n",
        "\n",
        "**Gradient descent** is an algorithm for getting to the bottom, or minimum, of a convex function. \n",
        "\n",
        "A function is convex if the line segment between any two points on the graph of the function lies above or on the graph. Therefore, $x^2$ is convex. It has a minimum at $x_{min} = 1$.\n",
        "\n",
        "Now, let's discuss gradient descent at a high level, using skiing down a hill as an analogy!\n",
        "\n",
        "Let's consider $f(x) = x^2$. We know that $\\frac{\\delta f}{\\delta x} = 2x$, and that $f(x)$ has $x_{min} = 0$. Remember, gradient descent is all about getting to a minimum! You want to get low :)\n",
        "\n",
        "It seems that you should use $f'(x)$ as a pair of skis to ski down the slope of $f(x)$. Obviously, if you're skiing down a steeper part of $f(x)$, then you would move faster.\n",
        "\n",
        "**Gradient descent:**\n",
        "\n",
        "```while``` $x_{n+1} \\neq x_n$ ```:```\n",
        "\n",
        "> $x_{n+1} = x_n - \\alpha * \\frac{\\delta f}{\\delta x}|_{x=x_n}$\n",
        "\n",
        "I know, this formula looks scary. Don't worry, we're going to take a second now (actually, more like a minute) to discuss the notation.\n",
        "\n",
        "1. $\\alpha$ is called a hyperparameter and YOU set its value. It controls how fast you ski down $f(x)$, that is, the larger $\\alpha$, the more ground you cover. But, be careful! If $\\alpha$ is set too high, you might fly off the function.\n",
        "2. $\\lim_{n \\to \\infty} x_n = x_{min}$\n",
        "\n",
        "\n",
        ">Let's see if gradient descent does what we want, using $f(x)$ as a test! We can first set $\\alpha$ to 0.25.\n",
        "\n",
        "$x_{n+1} = x_n - 0.25 * 2 x_n = x_n - 0.5 x_n$\n",
        "\n",
        "Let's start at $x_0 = 2$.\n",
        "\n",
        "$x_1 = x_0 - 0.5 x_0 = 2 - 0.5 * 2 = 2 - 1 = 1$\n",
        "\n",
        "$x_2 = x_1 - 0.5 x_1 = 1 - 0.5 * 1 = 1 - 0.5 = 0.5$\n",
        "\n",
        "$x_3 = x_2 - 0.5 x_2 = 0.5 - 0.5 * 0.5 = 0.5 - 0.25 = 0.25$\n",
        "\n",
        "$x_4 = x_3 - 0.5 x_3 = 0.25 - 0.5 * 0.25 = 0.25 - 0.125 = 0.125$\n",
        "\n",
        "We can clearly see that $x_{min} = \\lim_{n \\to \\infty} x_n = 0$. You might be wondering: wait, $x_n$ gets really close to 0, but it never actually gets there... won't a computer running gradient descent get stuck in an inifinite loop?? Nope! Eventually, $x_n$ will get SO close to 0 that a computer won't be able to tell the difference between $x_n$ and 0 due to its floating point precision. The gradient descent algorithm terminates when $x_n$ stops changing.\n",
        "\n",
        ">Now, let's set $\\alpha$ to 0.5.\n",
        "\n",
        "$x_{n+1} = x_n - 0.5 * 2 x_n = x_n - x_n$\n",
        "\n",
        "Let's start at $x_0 = 2$.\n",
        "\n",
        "$x_1 = x_0 - x_0 = 0$\n",
        "\n",
        "$x_2 = x_1 - x_1 = 0$\n",
        "\n",
        "The gradient descent algorithm terminates when $x_n$ stops changing. Indeed, $x_{min} = x_2 = 0$!\n",
        "\n",
        ">Now, let's set $\\alpha$ to 2.\n",
        "\n",
        "$x_{n+1} = x_n - 2 * 2 x_n = x_n - 4 x_n$\n",
        "\n",
        "Let's start at $x_0 = 2$.\n",
        "\n",
        "$x_1 = x_0 - 4 * x_0 = 2 - 4 * 2 = -6$\n",
        "\n",
        "$x_2 = x_1 - 4 * x_1 = -6 - 4 * (-6) = 18$\n",
        "\n",
        "$x_3 = x_2 - 4 * x_2 = 18 - 4 * (18) = -54$\n",
        "\n",
        "Oof, $x_n$ doesn't seem to be getting closer to 0 at all. In fact, it seems to be diverging!\n",
        "\n",
        ">Now, let's set $f(x) = -x^2$ and $\\alpha$ to 0.5 (which worked before on $f(x) = x^2$).\n",
        "\n",
        "$x_{n+1} = x_n - 0.5 * (-2 x_n) = x_n + x_n$\n",
        "\n",
        "Let's start at $x_0 = 2$.\n",
        "\n",
        "$x_1 = x_0 + x_0 = 2 + 2 = 4$\n",
        "\n",
        "$x_2 = x_1 + x_1 = 4 + 4 = 8$\n",
        "\n",
        "$x_3 = x_2 + x_2 = 8 + 8 = 16$\n",
        "\n",
        "Oh no, $x_n$ doesn't seem to be getting closer to 0 at all. It seems to be diverging again!\n",
        "\n",
        "\\\n",
        "It seems that the gradient descent algorithm works, but only when 2 conditions are met:\n",
        "\n",
        "1. The learning rate is set appropriately. In practice, the learning rate needs to be experimented with until gradient descent performs the best. Also, you should always set $0 \\leq \\alpha \\leq 1$. Lastly, as seen from the last example, a learning rate may work well on one function but not on another.\n",
        "2. The function is convex. $f(x) = -x^2$ is NOT convex. So, gradient descent will try to push $x_n$ all the way to $+\\infty$ or $-\\infty$ (depending on the sign of $x_0$). On a computer, this will result in an INFINITE LOOP, since $x_n$ will NEVER stop changing."
      ]
    },
    {
      "cell_type": "markdown",
      "metadata": {
        "id": "hPctgG_3BKyG"
      },
      "source": [
        "## **Partial derivatives**\n",
        "\n",
        "Ok, we're going to recall a technique that may have been touched upon in your single variable calculus classes: taking the derivative of a function with multiple variables with respect to only one of the variables. \n",
        "\n",
        "Say you have the equation below. We're going to take the first partial derivatives w.r.t to $x$ and $y$.\n",
        "\n",
        ">$f(x,y) = x^2y^2 + x^2y + xy^2 + xy$\n",
        "\n",
        ">$\\frac{\\delta f}{\\delta x} = 2xy^2 + 2xy + y^2 + y$\n",
        "\n",
        ">$\\frac{\\delta f}{\\delta y} = 2x^2y + x^2 + 2xy + x$\n",
        "\n",
        "How would you use the partial derivatives to do gradient descent on $f(x)$?\n",
        "\n",
        "Your turn! Try taking the first partial derivatives of $g(a,b)$ below and explain how gradient descent would work.\n",
        "\n",
        ">$g(a,b) = a^6b^5 + a^4b^3 + a^2b$"
      ]
    },
    {
      "cell_type": "markdown",
      "metadata": {
        "id": "VzgWcpNVBs-U"
      },
      "source": [
        "## **Gradient descent revisited**\n",
        "\n",
        "> How would we extend gradient descent to a multivariate function?\n",
        "\n",
        "We can just run gradient descent on each input variable (using the appropriate partial derivative) simultaneously.\n",
        "\n",
        "So, if we have $f(x, y)$, on each iteration of gradient descent we would do: \n",
        "\n",
        "$x_{n+1} = x_n - \\alpha * \\frac{\\delta f}{\\delta x}|_{x=x_n}$\n",
        "\n",
        "$y_{n+1} = y_n - \\alpha * \\frac{\\delta f}{\\delta y}|_{y=y_n}$\n",
        "\n",
        "We would stop when BOTH $x_{n+1} = x_n$ AND $y_{n+1} = y_n$. Why might it be an issue if we stop when only one input variable stops changing?\n",
        "\n",
        "***Food for thought:*** before, we were skiing down our function, now, we're sledding down our function (using a hyperplane)\n"
      ]
    },
    {
      "cell_type": "markdown",
      "metadata": {
        "id": "9a3WUSZ-QwsL"
      },
      "source": [
        "## **Vectors and matrices**\n",
        "\n",
        "**The big question: how can we use vectors and matrices to formalize function definitions and gradient descent?**\n",
        "\n",
        "What does it mean to vectorize a function??\n",
        "\n",
        "Well, as the name suggests, vectorizing functions entails writing our function definitions in terms of vectors. Because our focus is on linear regression, we will only be working with linear functions!\n",
        "\n",
        "What does THAT mean? No term in your function should contain two different variables multiplied together. For example, $g(x,y)=xy$ is NOT a linear function, since x and y are in a single term and multiplied together.\n",
        "\n",
        "Ok, here's an example of vectorization:\n",
        "\n",
        "$h(x,y,z)=x+2y+3z=\\begin{pmatrix} 1 & 2 & 3\\end{pmatrix} \\begin{pmatrix}\n",
        "           x \\\\\n",
        "           y \\\\\n",
        "           z \n",
        "         \\end{pmatrix} $\n",
        "\n",
        "We can denote $\\begin{pmatrix} 1 & 2 & 3\\end{pmatrix}$ as the coefficients vector and \\begin{pmatrix}\n",
        "           x \\\\\n",
        "           y \\\\\n",
        "           z \n",
        "         \\end{pmatrix} as the input vector.\n",
        "         \n",
        "From now onwards we will always use $w$ to represent the coefficients vector and $x$ to represent the input vector. That is, for any linear function $f$, we write:\n",
        "\n",
        "$f(x)=wx$\n",
        "\n",
        "Try finding the coefficients and input vectors, as well as vectorizing, the following:\n",
        "\n",
        "1) $a(x, y) = x - y$\n",
        "\n",
        "2) $b(x, y, z) = xyz$\n",
        "\n",
        "\n",
        "\\\\\n",
        "$======$\n",
        "\n",
        "\n",
        "\n",
        "Let's formally define the gradient as a vector now. A gradient is vector that is a collection of all the partial derivatives of a function. The gradient of $b(x, y, z)$ in example 2 is $\\nabla b = \\begin{pmatrix}\n",
        "           \\frac{\\delta b}{\\delta x} \\\\\n",
        "           \\frac{\\delta b}{\\delta y} \\\\\n",
        "           \\frac{\\delta b}{\\delta z} \n",
        "         \\end{pmatrix} $. We use the nabla or Del operator $\\nabla$ to indicate the gradient of a function. Given our current understanding of gradient descent, for the function $b(x, y, z)$, we would do the following on each iteration:\n",
        "\n",
        "$x_{n+1} = x_n - \\alpha * \\frac{\\delta b}{\\delta x}|_{x=x_n}$\n",
        "\n",
        "$y_{n+1} = y_n - \\alpha * \\frac{\\delta b}{\\delta y}|_{y=y_n}$\n",
        "\n",
        "$z_{n+1} = z_n - \\alpha * \\frac{\\delta b}{\\delta z}|_{z=y_n}$\n",
        "\n",
        "But, we could also do:\n",
        "\n",
        "$\\begin{pmatrix}\n",
        "           x_{n+1} \\\\\n",
        "           y_{n+1} \\\\\n",
        "           z_{n+1} \n",
        "         \\end{pmatrix} = \\begin{pmatrix}\n",
        "           x_{n} \\\\\n",
        "           y_{n} \\\\\n",
        "           z_{n} \n",
        "         \\end{pmatrix} - \\alpha \\nabla b |_{(x=x_n, y = y_n, z=z_n)}$\n",
        "\n",
        "until ALL the input variables stop changing.\n",
        "\n",
        "Take some time to convince yourself of this!\n",
        "\n",
        "Ok, cool, so now, even when we have multiple variables in our function input, we can still use gradient descent!\n",
        "\n",
        "Let's retroactively discuss some of the intuition behind gradient descent. The gradient is actually a vector that points in the direction of greatest **initial** increase no matter at which point you are on a function. (I say **initial** because a function's shape may change very quickly.) So, you could follow the gradient to get to the maximum of a function. Thus, it makes sense to follow the negative gradient to get the minimum of a function, since the negative gradient points in the direction of greatest **initial** decrease.\n",
        "\n",
        "You might still be wondering what I mean by **initial**. Let's say you're at the top of a 2D hill, and you're trying to ski down the shortest route to the bottom of the hill (look at the diagram below). You have to pick which side of the hill to ski down. The gradient at EXACTLY the top of the hill is just $<0>$ (this is a one-entry vector, and this makes sense because there's only one input variable). So, you experiment! You move to the left a little and see what the gradient is like there... you find that it's steep (which direction does the gradient point? towards the top of the hill). Now, you move to the right side of the hill... and you find that the gradient is even steeper (which direction does the gradient point? towards the top of the hill), so you follow the negative gradient down the right side. Oh crap, it turns out that going down the right side leads you to the bottom of a second, really steep hill (where the gradient is massive) and NOT the bottom of the original hill. Whereas, going down the left side of the hill would have taken you to the base of the original hill.\n",
        "\n",
        "In summary, the gradient tells you about the direction of greatest increase of the function ONLY at the point at which you are standing; you won't know the slope of the function for sure anywhere else. That's why gradient descented is only guaranteed to take the shortest route to the minimum of a function if the function is convex (i.e. doesn't look like these hills).![alt text](https://drive.google.com/uc?id=1NmNUhMp6XvqtmhSBOfFLIstjayGv7-iJ)\n",
        "\n",
        "One last thing, we said gradient descent terminates when the input variables stop changing. This occurs when the gradient is the 0-vector. The gradient is only the 0-vector at maxima and minima and saddle points. So, this provides more evidence that gradient descent can actually take us to a minimum of a function. Note that I said **a** minimum, NOT **the** global minimum. This is **IMPORTANT**: gradient descent is not guaranteed to find a global minimum if the function is not convex, it can get stuck at local minima and saddle points. But, we trust it enough in machine learning to do the job even when our functions are not completely convex!\n",
        "\n",
        "<br>\n",
        "\n",
        "# **But, what if our function has multiple outputs?**\n",
        "\n",
        "In other words, what if $f(x)$ is also a vector? No problem! We can use a matrix for our coefficients instead of a vector. Let's look at an example:\n",
        "\n",
        "$r(a, b, c) = a + b + c$\n",
        "\n",
        "$s(a, b, c) = a - b - c$\n",
        "\n",
        "$t(a, b, c) = a + b$\n",
        "\n",
        "Then, we can say:\n",
        "\n",
        "$\\begin{pmatrix}\n",
        "          r \\\\\n",
        "          s \\\\\n",
        "          t \n",
        "         \\end{pmatrix} = \\begin{pmatrix} 1 & 1 & 1 \\\\ 1 & -1 & -1 \\\\ 1 & 1 & 0 \\end{pmatrix} \\begin{pmatrix}\n",
        "          a \\\\\n",
        "          b \\\\\n",
        "          c \n",
        "         \\end{pmatrix}$\n",
        " \n",
        "Don't worry, we're going to use this opportunity to review matrix multiplication.\n",
        "\n",
        "HOLD UP. Our coefficients matrix looks like a bunch of coefficients vectors stacked on top of one another. So, let's use a capital $W$ to represent our coefficients matrix. In addition, let's use $y$ to represent our output vector.\n",
        "\n",
        "$y=Wx$\n",
        "\n",
        "Hmmm... something is missing. What about constant terms? Like, what if $r(a, b, c) = a + b + c + 4$ instead. No fear, we can create a biases vector $b = \\begin{pmatrix}\n",
        "          4 \\\\\n",
        "          0 \\\\\n",
        "          0 \n",
        "         \\end{pmatrix}$ to solve this problem:\n",
        "\n",
        "$\\begin{pmatrix}\n",
        "          r \\\\\n",
        "          s \\\\\n",
        "          t \n",
        "         \\end{pmatrix} = \\begin{pmatrix} 1 & 1 & 1 \\\\ 1 & -1 & -1 \\\\ 1 & 1 & 0 \\end{pmatrix} \\begin{pmatrix}\n",
        "          a \\\\\n",
        "          b \\\\\n",
        "          c \n",
        "         \\end{pmatrix} + \\begin{pmatrix}\n",
        "          4 \\\\\n",
        "          0 \\\\\n",
        "          0 \n",
        "         \\end{pmatrix}$\n",
        " \n",
        "In summary, $y=Wx + b$."
      ]
    },
    {
      "cell_type": "markdown",
      "metadata": {
        "id": "YSNJGbyIChzb"
      },
      "source": [
        "## **Defining the linear regression problem formally!**\n",
        "\n",
        "OKAY, GET READY. We're going to combine everything we learned above to define the linear regression problem.\n",
        "\n",
        "You have a training set TR that consists of $m$ pairs of input and the corresponding output, that is:\n",
        "\n",
        "$TR = [(x_0, y_0), (x_1, y_1), ..., (x_m, y_m)]$\n",
        "\n",
        "1. $x_i$ is an input vector. It is $n$-dimensional, where $n$ is the number of features in your input. As a reminder, features represent attributes of your input. For instance, if your input is a person (say, Person A), then their vector might consist of two features or dimensions: height and weight. So, Person A could have the following input vector: \n",
        "<br>\n",
        "$x_i = \\begin{pmatrix}70 \\\\\n",
        "          150\n",
        "         \\end{pmatrix}$\n",
        "<br>\n",
        "2. $y_i$ is the corresponding output vector. It is $k$-dimensional, where $k$ is the number of features you want in your output. Usually, $k=1$.\n",
        "\n",
        "We can horizontally stack all our $x_i$ to form a huge matrix $X$.\n",
        "We can horizontally stack all our $y_i$ to form a huge matrix $Y$.\n",
        "\n",
        "<br>\n",
        "Then, the linear regression problem can be written as:\n",
        "$Y=WX + b$\n",
        "\n",
        "Breakdown:\n",
        "\n",
        "1. What are the dimensions of $X$?\n",
        "2. What are the dimensions of $Y$?\n",
        "3. $W$ is your weights/coefficient matrix. What are its dimensions?\n",
        "4. $b$ is your bias vector, for the addition of a constant. What are its dimensions?\n",
        "\n",
        "# **THE GOAL:**\n",
        "Find the **best** $W$ and $b$ given $X$ and $Y$. We use **best** because there is naturally random variation in data, so a line won't always fit the data perfectly –– in fact, it usually doesn't! **It's important to remember that not all data exhibit a linear correlation –– you should not perform linear regression when the data are not linearly correlated.**\n",
        "\n",
        "## Why do we care?\n",
        "The training set (from which $X$ and $Y$ come) is just a *sample* from the *population*. For example, let each $x_i$ represents a house (and its attributes) and each $y_i$ represent the corresponding house price. The training set contains a LOT of houses, but obviously it doesn't contain ALL the houses ever built; therefore, the training set is just a sample.\n",
        "\n",
        "\n",
        "Our goal in linear regression is to find a universal function that takes a house as input and outputs its price. To find a universal function that is 100% accurate, we would need data on all the houses ever built. But, we don't have that! So, we settle for a sample of houses and create an approximation of this function which is good enough. That means, the function will be very accurate on the training set and potentially accurate when estimating the price of any house not in the training set, but it will make errors!\n",
        "\n",
        "<b> To recap, we want to approximate the function that takes a house as input and outputs its price. </b>\n",
        "\n",
        "We do this by optimizing $W$ and $b$ so that $WX + b$ is as close to $Y$ as possible. This is equivalent to saying we want $Wx_i + b$ to be as close to $y_i$ as possible for all $i$ between 1 and $m$."
      ]
    },
    {
      "cell_type": "markdown",
      "metadata": {
        "id": "JNZVH6_iLQyj"
      },
      "source": [
        "## **The error function**\n",
        "\n",
        "How do we define closeness??\n",
        "\n",
        "We need to quantify how incorrect our model is.\n",
        "\n",
        "Let's denote the estimations made by our model on $X$ as $Y_{pred}=WX + b$. As we discussed earlier, $Y_{pred}$ is close to but not the same as $Y$. Why is this the case, again?\n",
        "\n",
        "Clearly, how incorrect our model is is given by $Y_{pred} - Y$. Hmm... but sometimes, $Y_{pred}$ is less than Y and sometimes it's greater! So, let's square the difference so the inaccuracy is always positive.\n",
        "\n",
        "For simplicity, if $Y$ is an $m$-dimensional vector (that is, $k = 1$), then we can write our error like so:\n",
        ">$error = \\sum_{i=1}^m (Y_{predi} - Y_i)^2$\n",
        "\n",
        "One problem, a training set with more examples (a larger $m$) will naturally have a higher error. Thus, we should average our error over the training examples.\n",
        ">$error = \\frac{1}{m} \\sum_{i=1}^m (Y_{predi} - Y_i)^2 = \\frac{1}{m} \\sum_{i=1}^m ((𝑊 X_i + b) - Y_i)^2$\n",
        "\n",
        "This particular type of error is called **Mean Squared Error (MSE)**. There are other types of error as well. For instance, when we discuss logistic regression, we will cover cross-entropy error. In machine learning, we call this error the **loss**.\n",
        "\n",
        "In linear regression, we find the **best** $W$ and $b$ by performing gradient descent on the MSE of the model, since the input variables for MSE are also $W$ and $b$. Intuitively, if we can get get to the minimum MSE, we have found the **best** $W$ and $b$.\n",
        "\n",
        "We now have a solid enough foundation in linear regression to begin coding!"
      ]
    },
    {
      "cell_type": "markdown",
      "metadata": {
        "id": "duNKphPgil6g"
      },
      "source": [
        "We are going to begin with TensorFlow now! You can find the official online documentation for Tensorflow [here](https://www.tensorflow.org/api_docs). We will walk through the code below step by step.\n",
        "\n",
        "**Note:** We will not cover the Adam optimizer in depth in this course. Very simply put, the Adam optimizer makes sure that gradient descent takes into account past gradient values so that gradient descent happens more smoothly. It is the birth-child of Momentum and RMSProp. Please do more research on Adam if you are interested. This is a great [article](https://towardsdatascience.com/adam-latest-trends-in-deep-learning-optimization-6be9a291375c)."
      ]
    },
    {
      "cell_type": "code",
      "metadata": {
        "id": "KvW7GIxYA1OM",
        "colab": {
          "base_uri": "https://localhost:8080/",
          "height": 298
        },
        "outputId": "50e2cbe3-8c45-44dd-e74f-67448cb6bbc2"
      },
      "source": [
        "# Generate some training data\n",
        "\n",
        "import matplotlib.pyplot as plt\n",
        "import numpy as np\n",
        "\n",
        "X = np.arange(100)\n",
        "delta = np.random.uniform(-10,10, size=(100,))\n",
        "Y = .4 * X +3 + delta\n",
        "\n",
        "plt.plot(X, Y)\n",
        "plt.title('Stock prices over time')"
      ],
      "execution_count": null,
      "outputs": [
        {
          "output_type": "execute_result",
          "data": {
            "text/plain": [
              "Text(0.5, 1.0, 'Stock prices over time')"
            ]
          },
          "metadata": {
            "tags": []
          },
          "execution_count": 1
        },
        {
          "output_type": "display_data",
          "data": {
            "image/png": "[encoded data removed]",
            "text/plain": [
              "<Figure size 432x288 with 1 Axes>"
            ]
          },
          "metadata": {
            "tags": []
          }
        }
      ]
    },
    {
      "cell_type": "code",
      "metadata": {
        "id": "g52aXOIlpV_4",
        "colab": {
          "base_uri": "https://localhost:8080/",
          "height": 1000
        },
        "outputId": "a3d09585-a9d0-4b2c-b75e-21c02d0b6f6b"
      },
      "source": [
        "import tensorflow as tf\n",
        "\n",
        "# clear all previous values held from previous runnings of the code\n",
        "tf.reset_default_graph()\n",
        "\n",
        "# intialize x and y with two things: 1. the type all values within x and y will have 2. the proper shape\n",
        "# float32 maens floating-point number (a number with decimals) that occupies 32 bits of storage\n",
        "# note that x and y don't contain any information right now - they're empty and don't have any values inside!\n",
        "x = tf.placeholder(tf.float32, shape=(1, None))\n",
        "y = tf.placeholder(tf.float32, shape=(1, None))\n",
        "print(tf.shape(x))\n",
        "\n",
        "# initialize W and b with three things: 1. the type all values within them will have 2. the proper shape 3. random values\n",
        "# it's been proven that it's a good idea to initialize W and b with random values to start off training as opposed to all zeroes\n",
        "W = tf.Variable(name=\"weights\", dtype=tf.float32, expected_shape=[1, 1], initial_value=np.random.randn(1, 1))\n",
        "b = tf.Variable(name=\"biases\", dtype=tf.float32, expected_shape=[1, 1], initial_value=np.random.randn(1, 1))\n",
        "\n",
        "print(tf.shape(W))\n",
        "print(tf.shape(b))\n",
        "\n",
        "# we're defining what the y_pred value equals, but note that we're not actually calling it yet!\n",
        "y_pred = tf.add(tf.matmul(W, x), b)\n",
        "print(tf.shape(y_pred))\n",
        "\n",
        "# we're defining mean squared error with a function tensorflow provides us\n",
        "# y is the actual label value, y_pred is what our model outputted\n",
        "mse = tf.losses.mean_squared_error(y, y_pred)\n",
        "\n",
        "# our model will have some amount of error, and it needs a defined way to use this knowledge to determine how exactly W \n",
        "# and b's values need to change to make this model more accurate\n",
        "# we're using a pre-defined method for this called AdamOptimizer\n",
        "opt = tf.train.AdamOptimizer().minimize(mse)\n",
        "\n",
        "# in one iteration of training your ml model:\n",
        "  # predict stock value prices for each of your input rows \n",
        "  # get mean squared error -- loss -- : a singular value that represents how off your function was OVERALL on all of the input examples it just tried to predict output\n",
        "  # values for\n",
        "  # now update your weights and bias values so that your function sucks less (and hopefully will have a lower mse value next time)\n",
        "\n",
        "# creating tensorflow session\n",
        "with tf.Session() as sess:\n",
        "  # actually running stuff! before, we were setting up various things that COULD have values and COULD be called; this is the start\n",
        "  # of us actually using them\n",
        "    sess.run(tf.global_variables_initializer())\n",
        "    \n",
        "    # ask yourself: what does 5000 represent?\n",
        "    \n",
        "    for i in range(5000):\n",
        "\n",
        "      # (ans to above question: it's the number of training iterations! aka the number of times we do the iteration \n",
        "      # described in the comment block above)\n",
        "\n",
        "      # here's the SINGLE line we're using to run that entire single iteration process described above\n",
        "        _, mse_run = sess.run([opt, mse], feed_dict = {x: [X], y: [Y]})\n",
        "        \n",
        "        # we'll print out the mean squared error once every 50 iterations so it's not too much info\n",
        "        if i % 50 == 0:\n",
        "            print(mse_run)\n",
        "\n",
        "  # we're now done training! it's time to test\n",
        "  # we're getting all of our predicted labels for our test input data\n",
        "    y_pred_run = sess.run(y_pred, feed_dict = {x: [X], y: [Y]})\n",
        "    # plotting our results\n",
        "    plt.plot(X, Y)\n",
        "    plt.title('Stock prices over time')\n",
        "    plt.scatter(X, y_pred_run)"
      ],
      "execution_count": null,
      "outputs": [
        {
          "output_type": "stream",
          "text": [
            "Tensor(\"Shape:0\", shape=(2,), dtype=int32)\n",
            "Tensor(\"Shape_1:0\", shape=(2,), dtype=int32)\n",
            "Tensor(\"Shape_2:0\", shape=(2,), dtype=int32)\n",
            "Tensor(\"Shape_3:0\", shape=(2,), dtype=int32)\n",
            "3555.7644\n",
            "3221.084\n",
            "2910.0337\n",
            "2622.3853\n",
            "2357.0107\n",
            "2112.783\n",
            "1888.5953\n",
            "1683.361\n",
            "1496.0132\n",
            "1325.5056\n",
            "1170.8146\n",
            "1030.9368\n",
            "904.89545\n",
            "791.7371\n",
            "690.5349\n",
            "600.39\n",
            "520.4332\n",
            "449.82626\n",
            "387.7641\n",
            "333.4761\n",
            "286.22787\n",
            "245.3228\n",
            "210.10321\n",
            "179.95161\n",
            "154.29185\n",
            "132.5888\n",
            "114.34919\n",
            "99.12138\n",
            "86.49477\n",
            "76.0988\n",
            "67.60147\n",
            "60.707943\n",
            "55.15869\n",
            "50.726826\n",
            "47.216206\n",
            "44.45857\n",
            "42.31085\n",
            "40.65293\n",
            "39.384556\n",
            "38.423107\n",
            "37.701187\n",
            "37.16434\n",
            "36.769\n",
            "36.48079\n",
            "36.27282\n",
            "36.124283\n",
            "36.0193\n",
            "35.945866\n",
            "35.89502\n",
            "35.860153\n",
            "35.836464\n",
            "35.82048\n",
            "35.809757\n",
            "35.802567\n",
            "35.797718\n",
            "35.794403\n",
            "35.792065\n",
            "35.79034\n",
            "35.789005\n",
            "35.7879\n",
            "35.786922\n",
            "35.786022\n",
            "35.785152\n",
            "35.784298\n",
            "35.783443\n",
            "35.782574\n",
            "35.781696\n",
            "35.780796\n",
            "35.779877\n",
            "35.778942\n",
            "35.777985\n",
            "35.777\n",
            "35.776005\n",
            "35.77498\n",
            "35.773933\n",
            "35.772865\n",
            "35.77177\n",
            "35.770657\n",
            "35.769516\n",
            "35.76835\n",
            "35.76716\n",
            "35.765945\n",
            "35.764706\n",
            "35.76344\n",
            "35.762146\n",
            "35.760826\n",
            "35.759483\n",
            "35.758106\n",
            "35.756702\n",
            "35.75528\n",
            "35.75382\n",
            "35.75233\n",
            "35.750816\n",
            "35.74927\n",
            "35.747696\n",
            "35.746094\n",
            "35.74446\n",
            "35.742794\n",
            "35.741104\n",
            "35.739376\n"
          ],
          "name": "stdout"
        },
        {
          "output_type": "display_data",
          "data": {
            "image/png": "[encoded data removed]",
            "text/plain": [
              "<Figure size 432x288 with 1 Axes>"
            ]
          },
          "metadata": {
            "tags": []
          }
        }
      ]
    },
    {
      "cell_type": "markdown",
      "metadata": {
        "id": "75TfmaeIizjv"
      },
      "source": [
        "# **Homework 1**\n",
        "\n",
        "Using this dataset (https://www.kaggle.com/leonardopena/top50spotify2019), write TensorFlow code to perform linear regression to predict the popularity of a song based on variables of your choosing. Please print out the MSE regularly during training to make sure that it's decreasing (and that gradient descent is not diverging). Finally, plot how the MSE changed during training.\n",
        "\n",
        "### **Submission Instructions**\n",
        "\n",
        "If you are using Google Colab:\n",
        "* Go to \"File\" -> \"Download .ipynb\"\n",
        "* Email the file to uclaacmai@gmail.com with the subject \"Last Name, First Name: Linear Regression Assignment\" by Monday, January 20th at 11:59 pm. \n",
        "\n",
        "Feel free to email us if you have any questions! Looking forward to the next session.\n",
        "\n",
        "Our lovely interns have written a Python script to prepare the Spotify song data from the CSV file!"
      ]
    },
    {
      "cell_type": "code",
      "metadata": {
        "id": "gT1VIGmWofw1",
        "colab": {
          "resources": {
            "http://localhost:8080/nbextensions/google.colab/files.js": {
              "data": "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",
              "ok": true,
              "headers": [
                [
                  "content-type",
                  "application/javascript"
                ]
              ],
              "status": 200,
              "status_text": ""
            }
          },
          "base_uri": "https://localhost:8080/",
          "height": 573
        },
        "outputId": "53cf13c8-53db-4e45-ed95-b8bb377027a5"
      },
      "source": [
        "from google.colab import files\n",
        "import io\n",
        "uploaded = files.upload()\n",
        "\n",
        "import numpy as np\n",
        "import pandas as pd\n",
        "import matplotlib.pyplot as plt\n",
        "import tensorflow.compat.v1 as tf\n",
        "from tensorflow.python.framework import ops\n",
        "\n",
        "# Importing data through pandas\n",
        "top50_dataset = pd.read_csv(io.StringIO(uploaded['top50.csv'].decode('ISO-8859-1')))\n",
        "print(top50_dataset)\n",
        "# Representing as NumPy\n",
        "np_top50 = top50_dataset.values\n",
        "\n",
        "X = np_top50[0:, 6]   # Danceability\n",
        "Y = np_top50[0:, 13]   # Popularity\n",
        "plt.scatter(X, Y)\n",
        "plt.title('Danceability in Relation to Popularity')\n",
        "plt.show()"
      ],
      "execution_count": null,
      "outputs": [
        {
          "output_type": "display_data",
          "data": {
            "text/html": [
              "\n",
              "     <input type=\"file\" id=\"files-9ab2b64b-f7f4-4263-a961-5f994137c72a\" name=\"files[]\" multiple disabled />\n",
              "     <output id=\"result-9ab2b64b-f7f4-4263-a961-5f994137c72a\">\n",
              "      Upload widget is only available when the cell has been executed in the\n",
              "      current browser session. Please rerun this cell to enable.\n",
              "      </output>\n",
              "      <script src=\"/nbextensions/google.colab/files.js\"></script> "
            ],
            "text/plain": [
              "<IPython.core.display.HTML object>"
            ]
          },
          "metadata": {
            "tags": []
          }
        },
        {
          "output_type": "stream",
          "text": [
            "Saving top50.csv to top50 (1).csv\n",
            "                       id  ... time_signature\n",
            "0   6DCZcSspjsKoFjzjrWoCd  ...            4.0\n",
            "1   3ee8Jmje8o58CHK66QrVC  ...            4.0\n",
            "2   0e7ipj03S05BNilyu5bRz  ...            4.0\n",
            "3   3swc6WTsr7rl9DqQKQA55  ...            4.0\n",
            "4   2G7V7zsVDxg1yRsu7Ew9R  ...            4.0\n",
            "..                    ...  ...            ...\n",
            "95  630sXRhIcfwr2e4RdNtjK  ...            4.0\n",
            "96  2xmrfQpmS2iJExTlklLoA  ...            4.0\n",
            "97  5WvAo7DNuPRmk4APhdPzi  ...            5.0\n",
            "98  1j4kHkkpqZRBwE0A4CN4Y  ...            4.0\n",
            "99  3EPXxR3ImUwfayaurPi3c  ...            4.0\n",
            "\n",
            "[100 rows x 16 columns]\n"
          ],
          "name": "stdout"
        },
        {
          "output_type": "display_data",
          "data": {
            "image/png": "[encoded data removed]",
            "text/plain": [
              "<Figure size 432x288 with 1 Axes>"
            ]
          },
          "metadata": {
            "tags": []
          }
        }
      ]
    }
  ]
}