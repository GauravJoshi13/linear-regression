{
 "cells": [
  {
   "cell_type": "markdown",
   "metadata": {},
   "source": [
    "# Definition\n",
    "**Linear regression** is a **supervised learining** algorithm used when target / dependent variable  **continues** real number. It establishes relationship between dependent variable $y$ and one or more independent variable $x$ using best fit line.   It work on the principle of ordinary least square $(OLS)$ / Mean square errror $(MSE)$. In statistics ols is method to estimated unkown parameter of linear regression function, it's goal is to minimize sum of square difference between observed dependent variable in the given data set and those predicted by linear regression fuction.\n",
    "\n",
    "## Hypothesis representation\n",
    "\n",
    "We will use $\\mathbf{x_i}$ to denote the independent variable and $\\mathbf{y_i}$ to denote dependent variable. A pair of $\\mathbf{(x_i,y_i)}$ is called training example. The subscripe $\\mathbf{i}$ in the notation is simply index into the training set. We have $\\mathbf{m}$ training example then $\\mathbf{i = 1,2,3,...m}$.\n",
    "\n",
    "The goal of supervised learning is to learn a *hypothesis function $\\mathbf{h}$*, for a given training set that can used to estimate $\\mathbf{y}$ based on $\\mathbf{x}$. So hypothesis fuction represented as \n",
    ">\n",
    ">$$\\mathbf{ h_\\theta(x_{i}) = \\theta_0 + \\theta_1x_i }$$   \n",
    "\n",
    "$\\mathbf{\\theta_0,\\theta_1}$ are parameter of hypothesis.This is equation for **Simple / Univariate Linear regression**. \n",
    "\n",
    "For **Multiple Linear regression** more than one independent variable exit then we will use $\\mathbf{x_{ij}}$ to denote indepedent variable and $\\mathbf{y_{i}}$ to denote dependent variable. We have $\\mathbf{n}$ independent variable then $\\mathbf{j=1,2,3 ..... n}$. The hypothesis function represented as\n",
    ">\n",
    ">$$\\mathbf{h_\\theta(x_{i}) = \\theta_0 + \\theta_1x_{i1} + \\theta_2 x_{i2} + ..... \\theta_j x_{ij} ...... \\theta_n  x_{mn} }$$\n",
    "\n",
    "$\\mathbf{\\theta_0,\\theta_1,....\\theta_j....\\theta_n }$ are parameter of hypothesis,\n",
    "$\\mathbf{m}$ Number of training exaples,\n",
    "$\\mathbf{n}$ Number of independent variable,\n",
    "$\\mathbf{x_{ij}}$ is $\\mathbf{i^{th}}$ training exaple of $\\mathbf{j^{th}}$ feature.\n"
   ]
  },
  {
   "cell_type": "markdown",
   "metadata": {},
   "source": [
    "**Three different approaches to find the optimized values for the model parameters.**\n",
    "\n",
    "- Linear Regression with the Normal Equation\n",
    "- Linear Regression with Gradient Descent\n",
    "- Linear Regression with the Scikit-learn LinearRegression estimator"
   ]
  },
  {
   "cell_type": "code",
   "execution_count": 1,
   "metadata": {},
   "outputs": [],
   "source": [
    "import os\n",
    "import numpy as np\n",
    "import pandas as pd\n",
    "import seaborn as sns\n",
    "import matplotlib.pyplot as plt\n",
    "from sklearn import preprocessing, svm\n",
    "from sklearn.model_selection import train_test_split\n",
    "from sklearn.linear_model import LinearRegression\n",
    "from sklearn.datasets import make_regression"
   ]
  },
  {
   "cell_type": "code",
   "execution_count": 2,
   "metadata": {},
   "outputs": [],
   "source": [
    "n_samples = 500\n",
    " \n",
    "# Create data set.\n",
    "X, y = make_regression(\n",
    "    n_samples=n_samples, \n",
    "    n_features=1, \n",
    "    n_informative=1, \n",
    "    noise = 10, \n",
    "    random_state=10)\n",
    " \n",
    "# Convert  target variable array from 1d to 2d.\n",
    "y = y.reshape(n_samples, 1)"
   ]
  },
  {
   "cell_type": "code",
   "execution_count": 3,
   "metadata": {},
   "outputs": [
    {
     "data": {
      "text/plain": [
       "((500, 1), (500, 1))"
      ]
     },
     "execution_count": 3,
     "metadata": {},
     "output_type": "execute_result"
    }
   ],
   "source": [
    "X.shape, y.shape"
   ]
  },
  {
   "cell_type": "markdown",
   "metadata": {},
   "source": [
    "# Linear Regression with Normal equation.\n",
    "\n",
    "Usually finding the best model parameters is performed by running some kind of optimization algorithm (e.g. gradient descent) to minimize a cost function. However, it is possible to obtain values (weights) of these parameters by solving an algebraic equation called the normal equation as well.\n",
    "\n",
    ">$\\mathbf{\\theta = (X^T X)^{-1} X^Ty}$\n",
    "\n",
    "[Read more](https://towardsdatascience.com/performing-linear-regression-using-the-normal-equation-6372ed3c57)\n",
    "\n",
    "if you think you need to refresh your [linear algebra skills](https://www.youtube.com/watch?v=fNk_zzaMoSs&list=PLZHQObOWTQDPD3MizzM2xVFitgF8hE_ab)"
   ]
  },
  {
   "cell_type": "code",
   "execution_count": 4,
   "metadata": {},
   "outputs": [],
   "source": [
    "import numpy as np\n",
    "\n",
    "def linear_regression_normal_equation(X, y):\n",
    "    ones = np.ones((X.shape[0], 1))\n",
    "    X = np.append(ones, X, axis=1)\n",
    "    W = np.dot(np.linalg.pinv(np.dot(X.T, X)), np.dot(X.T, y))\n",
    "    return W\n",
    "\n",
    "if __name__ == \"__main__\":\n",
    "    W = linear_regression_normal_equation(X, y)"
   ]
  },
  {
   "cell_type": "code",
   "execution_count": 5,
   "metadata": {},
   "outputs": [
    {
     "data": {
      "text/plain": [
       "array([[-0.46338273],\n",
       "       [63.13879112]])"
      ]
     },
     "execution_count": 5,
     "metadata": {},
     "output_type": "execute_result"
    }
   ],
   "source": [
    "W"
   ]
  },
  {
   "cell_type": "markdown",
   "metadata": {},
   "source": [
    "# Linear regression with gradient decent"
   ]
  },
  {
   "cell_type": "markdown",
   "metadata": {},
   "source": [
    "Gradient descent is an iterative optimization algorithm to find the minimum of a function. Here that function is our Loss Function"
   ]
  },
  {
   "cell_type": "markdown",
   "metadata": {},
   "source": [
    "## Cost function\n",
    "\n",
    "A cost function measures how much error in the model is in terms of ability to estimate the relationship between $x$ and $y$. \n",
    "We can measure the accuracy of our hypothesis function by using a cost function. This takes an average difference of observed dependent variable in the given the dataset and those predicted by the hypothesis function.\n",
    " \n",
    ">$$\\mathbf{J(\\theta) = \\frac{1}{m} \\sum_{i=1}^{m}(\\hat{y}_i - y_i)^2}$$\n",
    ">$$\\mathbf{J(\\theta) = \\frac{1}{m} \\sum_{i=1}^{m}(h_\\theta(x_i) - y_i)^2}$$"
   ]
  },
  {
   "cell_type": "code",
   "execution_count": 6,
   "metadata": {},
   "outputs": [],
   "source": [
    "import numpy as np\n",
    "\n",
    "class LinearRegression:\n",
    "    def __init__(self, learning_rate=0.01, total_iterations=1000, print_cost=False):\n",
    "        self.learning_rate = learning_rate\n",
    "        self.total_iterations = total_iterations\n",
    "        self.print_cost = print_cost\n",
    "\n",
    "    def y_hat(self, X, w):\n",
    "        return np.dot(w.T, X)\n",
    "\n",
    "    def cost(self, yhat, y):\n",
    "        C = 1 / self.m * np.sum(np.power(yhat - y, 2))\n",
    "\n",
    "        return C\n",
    "\n",
    "    def gradient_descent(self, w, X, y, yhat):\n",
    "        dCdW = 2 / self.m * np.dot(X, (yhat - y).T)\n",
    "        w = w - self.learning_rate * dCdW\n",
    "\n",
    "        return w\n",
    "    \n",
    "    def main(self, X, y):\n",
    "        # Add x1 = 1\n",
    "        ones = np.ones((1, X.shape[1]))\n",
    "        X = np.append(ones, X, axis=0)\n",
    "\n",
    "        self.m = X.shape[1]\n",
    "        self.n = X.shape[0]\n",
    "\n",
    "        w = np.zeros((self.n, 1))\n",
    "        costs = []\n",
    "        \n",
    "        for it in range(1, self.total_iterations + 1):\n",
    "            yhat = self.y_hat(X, w)\n",
    "            cost = self.cost(yhat, y)\n",
    "            # append to list\n",
    "            costs.append(cost)\n",
    "            \n",
    "            if it % 50 == 0 and self.print_cost:\n",
    "                print(f\"Cost at iteration {it} is {cost}\")\n",
    "\n",
    "            w = self.gradient_descent(w, X, y, yhat)\n",
    "\n",
    "        return w, costs"
   ]
  },
  {
   "cell_type": "code",
   "execution_count": 7,
   "metadata": {},
   "outputs": [],
   "source": [
    "total_iterations = 50\n",
    "regression = LinearRegression(total_iterations=total_iterations, print_cost=False)\n",
    "\n",
    "w, costs = regression.main(X.T, y)"
   ]
  },
  {
   "cell_type": "code",
   "execution_count": 8,
   "metadata": {},
   "outputs": [
    {
     "data": {
      "text/plain": [
       "array([[-0.46338273],\n",
       "       [63.13879112]])"
      ]
     },
     "execution_count": 8,
     "metadata": {},
     "output_type": "execute_result"
    }
   ],
   "source": [
    "W"
   ]
  },
  {
   "cell_type": "code",
   "execution_count": 9,
   "metadata": {},
   "outputs": [
    {
     "data": {
      "image/png": "[encoded data removed]",
      "text/plain": [
       "<Figure size 432x288 with 1 Axes>"
      ]
     },
     "metadata": {
      "needs_background": "light"
     },
     "output_type": "display_data"
    }
   ],
   "source": [
    "iterations = np.linspace(0, total_iterations, num=total_iterations)\n",
    "\n",
    "plt.plot(iterations, costs)\n",
    "plt.xlabel('Iterations');"
   ]
  },
  {
   "cell_type": "markdown",
   "metadata": {},
   "source": [
    "# Linear Regression with Sklearn"
   ]
  },
  {
   "cell_type": "code",
   "execution_count": 10,
   "metadata": {},
   "outputs": [],
   "source": [
    "from sklearn.linear_model import LinearRegression\n",
    "# Create a linear regression model based the positioning of the data and Intercept, and predict a Best Fit:\n",
    "model = LinearRegression().fit(X, y)"
   ]
  },
  {
   "cell_type": "code",
   "execution_count": 11,
   "metadata": {},
   "outputs": [
    {
     "data": {
      "text/plain": [
       "(array([-0.46338273]), array([[63.13879112]]))"
      ]
     },
     "execution_count": 11,
     "metadata": {},
     "output_type": "execute_result"
    }
   ],
   "source": [
    "model.intercept_, model.coef_"
   ]
  },
  {
   "cell_type": "markdown",
   "metadata": {},
   "source": [
    "**Important terms in Linear regression-**\n",
    "\n",
    "- **Best Fit** – the straight line in a plot that minimizes the deviation between related scattered data points.\n",
    "- **Coefficient** – also known as a parameter, is the factor a variable is multiplied by. In linear regression, a coefficient represents changes in a Response Variable (see below).\n",
    "- **Coefficient of Determination** – the correlation coefficient denoted as 𝑅². Used to describe the precision or degree of fit in a regression. \n",
    "- **Correlation** – the relationship between two variables in terms of quantifiable strength and degree, often referred to as the ‘degree of correlation’.  Values range between -1.0 and 1.0. \n",
    "- **Dependent Feature** – a variable denoted as y in the slope equation y=ax+b. Also known as an Output, or a Response. \n",
    "- **Estimated Regression Line** – the straight line that best fits a set of scattered data points.\n",
    "- **Independent Feature** – a variable denoted as x in the slope equation y=ax+b. Also known as an Input, or a predictor. \n",
    "- **Intercept** – the location where the Slope intercepts the Y-axis denoted b in the slope equation y=ax+b. \n",
    "- **Mean** – an average of a set of numbers, but in linear regression, Mean is modeled by a linear function.\n",
    "- **Ordinary Least Squares Regression (OLS)** – more commonly known as Linear Regression. \n",
    "- **Residual** – vertical distance between a data point and the line of regression (see Residual in Figure 1 below).\n",
    "- **Regression** – estimate of predictive change in a variable in relation to changes in other variables (see Predicted Response in Figure 1 below).\n",
    "- **Regression Model** – the ideal formula for approximating a regression.\n",
    "- **Response Variables** – includes both the Predicted Response (the value predicted by the regression) and the Actual Response, which is the actual value of the data point (see Figure 1 below).\n",
    "- **Slope** – the steepness of a line of regression. Slope and Intercept can be used to define the linear relationship between two variables: y=ax+b.\n",
    "- **Simple Linear Regression** – a linear regression that has a single independent variable."
   ]
  },
  {
   "cell_type": "code",
   "execution_count": null,
   "metadata": {},
   "outputs": [],
   "source": []
  },
  {
   "cell_type": "code",
   "execution_count": null,
   "metadata": {},
   "outputs": [],
   "source": []
  },
  {
   "cell_type": "code",
   "execution_count": null,
   "metadata": {},
   "outputs": [],
   "source": []
  }
 ],
 "metadata": {
  "kernelspec": {
   "display_name": "Python 3",
   "language": "python",
   "name": "python3"
  },
  "language_info": {
   "codemirror_mode": {
    "name": "ipython",
    "version": 3
   },
   "file_extension": ".py",
   "mimetype": "text/x-python",
   "name": "python",
   "nbconvert_exporter": "python",
   "pygments_lexer": "ipython3",
   "version": "3.8.8"
  }
 },
 "nbformat": 4,
 "nbformat_minor": 4
}
